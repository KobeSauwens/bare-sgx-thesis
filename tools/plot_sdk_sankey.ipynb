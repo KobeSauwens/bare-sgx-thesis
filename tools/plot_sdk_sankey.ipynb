{
 "cells": [
  {
   "cell_type": "code",
   "execution_count": 4,
   "metadata": {},
   "outputs": [
    {
     "data": {
      "application/vnd.plotly.v1+json": {
       "config": {
        "plotlyServerURL": "https://plot.ly"
       },
       "data": [
        {
         "arrangement": "snap",
         "link": {
          "source": [
           0,
           0,
           1,
           3,
           3,
           3,
           3,
           3,
           3,
           3,
           3,
           3,
           3,
           3,
           3,
           3,
           3,
           3,
           3,
           1,
           20,
           20,
           20,
           20,
           20,
           20,
           20,
           20,
           20,
           20,
           20,
           20,
           20,
           20,
           20,
           20,
           20,
           20,
           20,
           20,
           20,
           20,
           20,
           20,
           20,
           20,
           20,
           20,
           20,
           20,
           20,
           20,
           20,
           20,
           20,
           20,
           20,
           20,
           20,
           20,
           20,
           20,
           20,
           20,
           20,
           20,
           20,
           20,
           20,
           20,
           20,
           20,
           20,
           20,
           20,
           20,
           20,
           20,
           1,
           73,
           73,
           73,
           73,
           73,
           73,
           73,
           73,
           73,
           73,
           73,
           73,
           73,
           73,
           73,
           73,
           73,
           73,
           73,
           73,
           73,
           73,
           73,
           73,
           73,
           73,
           73,
           73,
           73,
           73,
           73,
           73,
           73,
           1,
           107,
           107,
           107,
           107,
           107,
           107,
           107,
           107,
           107,
           107,
           107,
           107,
           1,
           120,
           120,
           120,
           120,
           120,
           120,
           120,
           120,
           120,
           120,
           120,
           120,
           120,
           120,
           120,
           120,
           120,
           120,
           120,
           120,
           120,
           120,
           120,
           120,
           120,
           120,
           120,
           120,
           120,
           120,
           120,
           120,
           120,
           120,
           120,
           120,
           120,
           120,
           120,
           120,
           1,
           158,
           158,
           158,
           158,
           158,
           158,
           158,
           1,
           166,
           166,
           166,
           166,
           166,
           166,
           166,
           166,
           2,
           2,
           2,
           2,
           2,
           2
          ],
          "target": [
           1,
           2,
           3,
           4,
           5,
           6,
           7,
           8,
           9,
           10,
           11,
           12,
           13,
           14,
           15,
           16,
           17,
           18,
           19,
           20,
           21,
           22,
           23,
           24,
           25,
           26,
           27,
           28,
           29,
           30,
           31,
           32,
           33,
           34,
           35,
           36,
           37,
           38,
           39,
           40,
           41,
           42,
           43,
           44,
           45,
           46,
           47,
           48,
           49,
           50,
           51,
           52,
           53,
           54,
           55,
           56,
           57,
           58,
           59,
           60,
           61,
           62,
           63,
           64,
           65,
           66,
           67,
           68,
           69,
           70,
           71,
           72,
           67,
           68,
           69,
           70,
           71,
           72,
           73,
           74,
           75,
           76,
           77,
           78,
           79,
           80,
           81,
           82,
           83,
           84,
           85,
           86,
           87,
           88,
           89,
           90,
           91,
           92,
           93,
           94,
           95,
           96,
           97,
           98,
           99,
           100,
           101,
           102,
           103,
           104,
           105,
           106,
           107,
           108,
           109,
           110,
           111,
           112,
           113,
           114,
           115,
           116,
           117,
           118,
           119,
           120,
           121,
           122,
           123,
           124,
           125,
           126,
           127,
           128,
           129,
           130,
           131,
           132,
           133,
           134,
           135,
           136,
           137,
           138,
           139,
           140,
           141,
           142,
           143,
           144,
           145,
           146,
           147,
           148,
           149,
           150,
           151,
           152,
           153,
           154,
           155,
           156,
           157,
           155,
           156,
           157,
           158,
           159,
           160,
           161,
           162,
           163,
           164,
           165,
           166,
           167,
           168,
           169,
           170,
           171,
           172,
           173,
           174,
           175,
           176,
           176,
           177,
           178,
           179
          ],
          "value": [
           210705,
           18446744073709340000,
           11132,
           1327,
           1337,
           1790,
           1959,
           247,
           320,
           94,
           544,
           275,
           438,
           125,
           1645,
           349,
           98,
           536,
           48,
           24733,
           2014,
           2014,
           2385,
           2385,
           494,
           103,
           593,
           596,
           494,
           47,
           53,
           585,
           632,
           103,
           838,
           697,
           632,
           47,
           82,
           649,
           438,
           536,
           125,
           47,
           393,
           98,
           217,
           438,
           125,
           47,
           393,
           31,
           217,
           438,
           536,
           125,
           47,
           546,
           98,
           292,
           438,
           125,
           47,
           546,
           31,
           292,
           32,
           32,
           64,
           64,
           256,
           928,
           32,
           32,
           64,
           64,
           256,
           800,
           136882,
           2981,
           2981,
           2969,
           2969,
           46,
           651,
           24215,
           37,
           549,
           122,
           793,
           185,
           2518,
           93,
           99,
           44,
           44,
           60,
           10905,
           11823,
           11823,
           11814,
           11814,
           11814,
           11814,
           37,
           31,
           558,
           2700,
           9817,
           96,
           96,
           384,
           4605,
           202,
           262,
           94,
           544,
           268,
           438,
           125,
           1645,
           347,
           98,
           534,
           48,
           22851,
           1445,
           141,
           278,
           658,
           156,
           241,
           25,
           109,
           320,
           36,
           2309,
           1119,
           122,
           175,
           985,
           283,
           1607,
           1725,
           182,
           438,
           746,
           156,
           308,
           25,
           109,
           357,
           36,
           2429,
           1158,
           122,
           175,
           985,
           292,
           1823,
           640,
           32,
           224,
           640,
           32,
           208,
           3846,
           1837,
           189,
           139,
           139,
           297,
           1229,
           16,
           6656,
           1100,
           1974,
           741,
           200,
           1781,
           544,
           126,
           190,
           18446744073708552000,
           209519,
           166371,
           83577,
           65536,
           262829
          ]
         },
         "node": {
          "label": [
           "Full Binary",
           "HACL*",
           "Runtime",
           "HACL_Other",
           "Hacl_HMAC_compute_md5",
           "Hacl_HMAC_compute_sha1",
           "Hacl_HMAC_compute_blake2s_32",
           "Hacl_HMAC_compute_blake2b_32",
           "Hacl_Hash_SHA1_init",
           "Hacl_Hash_SHA1_finish",
           "Hacl_Hash_SHA1_update_multi",
           "Hacl_Hash_SHA1_update_last",
           "Hacl_Hash_SHA1_hash_oneshot",
           "Hacl_Hash_SHA1_malloc",
           "Hacl_Hash_SHA1_reset",
           "Hacl_Hash_SHA1_update",
           "Hacl_Hash_SHA1_digest",
           "Hacl_Hash_SHA1_free",
           "Hacl_Hash_SHA1_copy",
           "Hacl_Hash_SHA1_hash",
           "HACL_SHA2",
           "Hacl_HMAC_compute_sha2_224",
           "Hacl_HMAC_compute_sha2_256",
           "Hacl_HMAC_compute_sha2_384",
           "Hacl_HMAC_compute_sha2_512",
           "Hacl_Hash_SHA2_sha256_init",
           "Hacl_Hash_SHA2_sha256_update_nblocks",
           "Hacl_Hash_SHA2_sha256_update_last",
           "Hacl_Hash_SHA2_sha256_finish",
           "Hacl_Hash_SHA2_sha224_init",
           "Hacl_Hash_SHA2_sha224_update_nblocks",
           "Hacl_Hash_SHA2_sha224_update_last",
           "Hacl_Hash_SHA2_sha224_finish",
           "Hacl_Hash_SHA2_sha512_init",
           "Hacl_Hash_SHA2_sha512_update_nblocks",
           "Hacl_Hash_SHA2_sha512_update_last",
           "Hacl_Hash_SHA2_sha512_finish",
           "Hacl_Hash_SHA2_sha384_init",
           "Hacl_Hash_SHA2_sha384_update_nblocks",
           "Hacl_Hash_SHA2_sha384_update_last",
           "Hacl_Hash_SHA2_sha384_finish",
           "Hacl_Hash_SHA2_malloc_256",
           "Hacl_Hash_SHA2_copy_256",
           "Hacl_Hash_SHA2_reset_256",
           "Hacl_Hash_SHA2_update_256",
           "Hacl_Hash_SHA2_digest_256",
           "Hacl_Hash_SHA2_free_256",
           "Hacl_Hash_SHA2_hash_256",
           "Hacl_Hash_SHA2_malloc_224",
           "Hacl_Hash_SHA2_reset_224",
           "Hacl_Hash_SHA2_update_224",
           "Hacl_Hash_SHA2_digest_224",
           "Hacl_Hash_SHA2_free_224",
           "Hacl_Hash_SHA2_hash_224",
           "Hacl_Hash_SHA2_malloc_512",
           "Hacl_Hash_SHA2_copy_512",
           "Hacl_Hash_SHA2_reset_512",
           "Hacl_Hash_SHA2_update_512",
           "Hacl_Hash_SHA2_digest_512",
           "Hacl_Hash_SHA2_free_512",
           "Hacl_Hash_SHA2_hash_512",
           "Hacl_Hash_SHA2_malloc_384",
           "Hacl_Hash_SHA2_reset_384",
           "Hacl_Hash_SHA2_update_384",
           "Hacl_Hash_SHA2_digest_384",
           "Hacl_Hash_SHA2_free_384",
           "Hacl_Hash_SHA2_hash_384",
           "Hacl_Hash_SHA2_h224",
           "Hacl_Hash_SHA2_h256",
           "Hacl_Hash_SHA2_h384",
           "Hacl_Hash_SHA2_h512",
           "Hacl_Hash_SHA2_k224_256",
           "Hacl_Hash_SHA2_k384_512",
           "HACL_SHA3",
           "Hacl_HMAC_compute_sha3_224",
           "Hacl_HMAC_compute_sha3_256",
           "Hacl_HMAC_compute_sha3_384",
           "Hacl_HMAC_compute_sha3_512",
           "Hacl_Hash_SHA3_init_",
           "Hacl_Hash_SHA3_update_multi_sha3",
           "Hacl_Hash_SHA3_update_last_sha3",
           "Hacl_Hash_SHA3_get_alg",
           "Hacl_Hash_SHA3_malloc",
           "Hacl_Hash_SHA3_free",
           "Hacl_Hash_SHA3_copy",
           "Hacl_Hash_SHA3_reset",
           "Hacl_Hash_SHA3_update",
           "Hacl_Hash_SHA3_digest",
           "Hacl_Hash_SHA3_squeeze",
           "Hacl_Hash_SHA3_block_len",
           "Hacl_Hash_SHA3_hash_len",
           "Hacl_Hash_SHA3_is_shake",
           "Hacl_Hash_SHA3_absorb_inner_32",
           "Hacl_Hash_SHA3_shake128",
           "Hacl_Hash_SHA3_shake256",
           "Hacl_Hash_SHA3_sha3_224",
           "Hacl_Hash_SHA3_sha3_256",
           "Hacl_Hash_SHA3_sha3_384",
           "Hacl_Hash_SHA3_sha3_512",
           "Hacl_Hash_SHA3_state_malloc",
           "Hacl_Hash_SHA3_state_free",
           "Hacl_Hash_SHA3_shake128_absorb_nblocks",
           "Hacl_Hash_SHA3_shake128_absorb_final",
           "Hacl_Hash_SHA3_shake128_squeeze_nblocks",
           "Hacl_Hash_SHA3_keccak_rotc",
           "Hacl_Hash_SHA3_keccak_piln",
           "Hacl_Hash_SHA3_keccak_rndc",
           "HACL_MD5",
           "Hacl_Hash_MD5_init",
           "Hacl_Hash_MD5_finish",
           "Hacl_Hash_MD5_update_multi",
           "Hacl_Hash_MD5_update_last",
           "Hacl_Hash_MD5_hash_oneshot",
           "Hacl_Hash_MD5_malloc",
           "Hacl_Hash_MD5_reset",
           "Hacl_Hash_MD5_update",
           "Hacl_Hash_MD5_digest",
           "Hacl_Hash_MD5_free",
           "Hacl_Hash_MD5_copy",
           "Hacl_Hash_MD5_hash",
           "HACL_Blake2",
           "Hacl_Hash_Blake2s_init",
           "Hacl_Hash_Blake2s_update_multi",
           "Hacl_Hash_Blake2s_update_last",
           "Hacl_Hash_Blake2s_finish",
           "Hacl_Hash_Blake2s_malloc_with_params_and_key",
           "Hacl_Hash_Blake2s_malloc_with_key",
           "Hacl_Hash_Blake2s_malloc",
           "Hacl_Hash_Blake2s_reset_with_key_and_params",
           "Hacl_Hash_Blake2s_reset_with_key",
           "Hacl_Hash_Blake2s_reset",
           "Hacl_Hash_Blake2s_update",
           "Hacl_Hash_Blake2s_digest",
           "Hacl_Hash_Blake2s_info",
           "Hacl_Hash_Blake2s_free",
           "Hacl_Hash_Blake2s_copy",
           "Hacl_Hash_Blake2s_hash_with_key",
           "Hacl_Hash_Blake2s_hash_with_key_and_params",
           "Hacl_Hash_Blake2b_init",
           "Hacl_Hash_Blake2b_update_multi",
           "Hacl_Hash_Blake2b_update_last",
           "Hacl_Hash_Blake2b_finish",
           "Hacl_Hash_Blake2b_malloc_with_params_and_key",
           "Hacl_Hash_Blake2b_malloc_with_key",
           "Hacl_Hash_Blake2b_malloc",
           "Hacl_Hash_Blake2b_reset_with_key_and_params",
           "Hacl_Hash_Blake2b_reset_with_key",
           "Hacl_Hash_Blake2b_reset",
           "Hacl_Hash_Blake2b_update",
           "Hacl_Hash_Blake2b_digest",
           "Hacl_Hash_Blake2b_info",
           "Hacl_Hash_Blake2b_free",
           "Hacl_Hash_Blake2b_copy",
           "Hacl_Hash_Blake2b_hash_with_key",
           "Hacl_Hash_Blake2b_hash_with_key_and_params",
           "Hacl_Hash_Blake2b_sigmaTable",
           "Hacl_Hash_Blake2b_ivTable_S",
           "Hacl_Hash_Blake2b_ivTable_B",
           "HACL_Chacha20",
           "Hacl_Impl_Chacha20_chacha20_init",
           "Hacl_Impl_Chacha20_chacha20_update",
           "Hacl_Chacha20_chacha20_encrypt",
           "Hacl_Chacha20_chacha20_decrypt",
           "Hacl_AEAD_Chacha20Poly1305_encrypt",
           "Hacl_AEAD_Chacha20Poly1305_decrypt",
           "Hacl_Impl_Chacha20_Vec_chacha20_constants",
           "HACL_Poly1305",
           "Hacl_MAC_Poly1305_poly1305_init",
           "Hacl_MAC_Poly1305_poly1305_finish",
           "Hacl_MAC_Poly1305_malloc",
           "Hacl_MAC_Poly1305_reset",
           "Hacl_MAC_Poly1305_update",
           "Hacl_MAC_Poly1305_digest",
           "Hacl_MAC_Poly1305_free",
           "Hacl_MAC_Poly1305_mac",
           "_ZZ15sgx_self_reportE7_report",
           "update_block",
           "sha512_update",
           "meta_reserve",
           "Other Runtime"
          ],
          "line": {
           "color": "black",
           "width": 0.5
          },
          "pad": 15,
          "thickness": 20
         },
         "type": "sankey"
        }
       ],
       "layout": {
        "font": {
         "size": 12
        },
        "height": 900,
        "template": {
         "data": {
          "bar": [
           {
            "error_x": {
             "color": "#2a3f5f"
            },
            "error_y": {
             "color": "#2a3f5f"
            },
            "marker": {
             "line": {
              "color": "#E5ECF6",
              "width": 0.5
             },
             "pattern": {
              "fillmode": "overlay",
              "size": 10,
              "solidity": 0.2
             }
            },
            "type": "bar"
           }
          ],
          "barpolar": [
           {
            "marker": {
             "line": {
              "color": "#E5ECF6",
              "width": 0.5
             },
             "pattern": {
              "fillmode": "overlay",
              "size": 10,
              "solidity": 0.2
             }
            },
            "type": "barpolar"
           }
          ],
          "carpet": [
           {
            "aaxis": {
             "endlinecolor": "#2a3f5f",
             "gridcolor": "white",
             "linecolor": "white",
             "minorgridcolor": "white",
             "startlinecolor": "#2a3f5f"
            },
            "baxis": {
             "endlinecolor": "#2a3f5f",
             "gridcolor": "white",
             "linecolor": "white",
             "minorgridcolor": "white",
             "startlinecolor": "#2a3f5f"
            },
            "type": "carpet"
           }
          ],
          "choropleth": [
           {
            "colorbar": {
             "outlinewidth": 0,
             "ticks": ""
            },
            "type": "choropleth"
           }
          ],
          "contour": [
           {
            "colorbar": {
             "outlinewidth": 0,
             "ticks": ""
            },
            "colorscale": [
             [
              0,
              "#0d0887"
             ],
             [
              0.1111111111111111,
              "#46039f"
             ],
             [
              0.2222222222222222,
              "#7201a8"
             ],
             [
              0.3333333333333333,
              "#9c179e"
             ],
             [
              0.4444444444444444,
              "#bd3786"
             ],
             [
              0.5555555555555556,
              "#d8576b"
             ],
             [
              0.6666666666666666,
              "#ed7953"
             ],
             [
              0.7777777777777778,
              "#fb9f3a"
             ],
             [
              0.8888888888888888,
              "#fdca26"
             ],
             [
              1,
              "#f0f921"
             ]
            ],
            "type": "contour"
           }
          ],
          "contourcarpet": [
           {
            "colorbar": {
             "outlinewidth": 0,
             "ticks": ""
            },
            "type": "contourcarpet"
           }
          ],
          "heatmap": [
           {
            "colorbar": {
             "outlinewidth": 0,
             "ticks": ""
            },
            "colorscale": [
             [
              0,
              "#0d0887"
             ],
             [
              0.1111111111111111,
              "#46039f"
             ],
             [
              0.2222222222222222,
              "#7201a8"
             ],
             [
              0.3333333333333333,
              "#9c179e"
             ],
             [
              0.4444444444444444,
              "#bd3786"
             ],
             [
              0.5555555555555556,
              "#d8576b"
             ],
             [
              0.6666666666666666,
              "#ed7953"
             ],
             [
              0.7777777777777778,
              "#fb9f3a"
             ],
             [
              0.8888888888888888,
              "#fdca26"
             ],
             [
              1,
              "#f0f921"
             ]
            ],
            "type": "heatmap"
           }
          ],
          "histogram": [
           {
            "marker": {
             "pattern": {
              "fillmode": "overlay",
              "size": 10,
              "solidity": 0.2
             }
            },
            "type": "histogram"
           }
          ],
          "histogram2d": [
           {
            "colorbar": {
             "outlinewidth": 0,
             "ticks": ""
            },
            "colorscale": [
             [
              0,
              "#0d0887"
             ],
             [
              0.1111111111111111,
              "#46039f"
             ],
             [
              0.2222222222222222,
              "#7201a8"
             ],
             [
              0.3333333333333333,
              "#9c179e"
             ],
             [
              0.4444444444444444,
              "#bd3786"
             ],
             [
              0.5555555555555556,
              "#d8576b"
             ],
             [
              0.6666666666666666,
              "#ed7953"
             ],
             [
              0.7777777777777778,
              "#fb9f3a"
             ],
             [
              0.8888888888888888,
              "#fdca26"
             ],
             [
              1,
              "#f0f921"
             ]
            ],
            "type": "histogram2d"
           }
          ],
          "histogram2dcontour": [
           {
            "colorbar": {
             "outlinewidth": 0,
             "ticks": ""
            },
            "colorscale": [
             [
              0,
              "#0d0887"
             ],
             [
              0.1111111111111111,
              "#46039f"
             ],
             [
              0.2222222222222222,
              "#7201a8"
             ],
             [
              0.3333333333333333,
              "#9c179e"
             ],
             [
              0.4444444444444444,
              "#bd3786"
             ],
             [
              0.5555555555555556,
              "#d8576b"
             ],
             [
              0.6666666666666666,
              "#ed7953"
             ],
             [
              0.7777777777777778,
              "#fb9f3a"
             ],
             [
              0.8888888888888888,
              "#fdca26"
             ],
             [
              1,
              "#f0f921"
             ]
            ],
            "type": "histogram2dcontour"
           }
          ],
          "mesh3d": [
           {
            "colorbar": {
             "outlinewidth": 0,
             "ticks": ""
            },
            "type": "mesh3d"
           }
          ],
          "parcoords": [
           {
            "line": {
             "colorbar": {
              "outlinewidth": 0,
              "ticks": ""
             }
            },
            "type": "parcoords"
           }
          ],
          "pie": [
           {
            "automargin": true,
            "type": "pie"
           }
          ],
          "scatter": [
           {
            "fillpattern": {
             "fillmode": "overlay",
             "size": 10,
             "solidity": 0.2
            },
            "type": "scatter"
           }
          ],
          "scatter3d": [
           {
            "line": {
             "colorbar": {
              "outlinewidth": 0,
              "ticks": ""
             }
            },
            "marker": {
             "colorbar": {
              "outlinewidth": 0,
              "ticks": ""
             }
            },
            "type": "scatter3d"
           }
          ],
          "scattercarpet": [
           {
            "marker": {
             "colorbar": {
              "outlinewidth": 0,
              "ticks": ""
             }
            },
            "type": "scattercarpet"
           }
          ],
          "scattergeo": [
           {
            "marker": {
             "colorbar": {
              "outlinewidth": 0,
              "ticks": ""
             }
            },
            "type": "scattergeo"
           }
          ],
          "scattergl": [
           {
            "marker": {
             "colorbar": {
              "outlinewidth": 0,
              "ticks": ""
             }
            },
            "type": "scattergl"
           }
          ],
          "scattermap": [
           {
            "marker": {
             "colorbar": {
              "outlinewidth": 0,
              "ticks": ""
             }
            },
            "type": "scattermap"
           }
          ],
          "scattermapbox": [
           {
            "marker": {
             "colorbar": {
              "outlinewidth": 0,
              "ticks": ""
             }
            },
            "type": "scattermapbox"
           }
          ],
          "scatterpolar": [
           {
            "marker": {
             "colorbar": {
              "outlinewidth": 0,
              "ticks": ""
             }
            },
            "type": "scatterpolar"
           }
          ],
          "scatterpolargl": [
           {
            "marker": {
             "colorbar": {
              "outlinewidth": 0,
              "ticks": ""
             }
            },
            "type": "scatterpolargl"
           }
          ],
          "scatterternary": [
           {
            "marker": {
             "colorbar": {
              "outlinewidth": 0,
              "ticks": ""
             }
            },
            "type": "scatterternary"
           }
          ],
          "surface": [
           {
            "colorbar": {
             "outlinewidth": 0,
             "ticks": ""
            },
            "colorscale": [
             [
              0,
              "#0d0887"
             ],
             [
              0.1111111111111111,
              "#46039f"
             ],
             [
              0.2222222222222222,
              "#7201a8"
             ],
             [
              0.3333333333333333,
              "#9c179e"
             ],
             [
              0.4444444444444444,
              "#bd3786"
             ],
             [
              0.5555555555555556,
              "#d8576b"
             ],
             [
              0.6666666666666666,
              "#ed7953"
             ],
             [
              0.7777777777777778,
              "#fb9f3a"
             ],
             [
              0.8888888888888888,
              "#fdca26"
             ],
             [
              1,
              "#f0f921"
             ]
            ],
            "type": "surface"
           }
          ],
          "table": [
           {
            "cells": {
             "fill": {
              "color": "#EBF0F8"
             },
             "line": {
              "color": "white"
             }
            },
            "header": {
             "fill": {
              "color": "#C8D4E3"
             },
             "line": {
              "color": "white"
             }
            },
            "type": "table"
           }
          ]
         },
         "layout": {
          "annotationdefaults": {
           "arrowcolor": "#2a3f5f",
           "arrowhead": 0,
           "arrowwidth": 1
          },
          "autotypenumbers": "strict",
          "coloraxis": {
           "colorbar": {
            "outlinewidth": 0,
            "ticks": ""
           }
          },
          "colorscale": {
           "diverging": [
            [
             0,
             "#8e0152"
            ],
            [
             0.1,
             "#c51b7d"
            ],
            [
             0.2,
             "#de77ae"
            ],
            [
             0.3,
             "#f1b6da"
            ],
            [
             0.4,
             "#fde0ef"
            ],
            [
             0.5,
             "#f7f7f7"
            ],
            [
             0.6,
             "#e6f5d0"
            ],
            [
             0.7,
             "#b8e186"
            ],
            [
             0.8,
             "#7fbc41"
            ],
            [
             0.9,
             "#4d9221"
            ],
            [
             1,
             "#276419"
            ]
           ],
           "sequential": [
            [
             0,
             "#0d0887"
            ],
            [
             0.1111111111111111,
             "#46039f"
            ],
            [
             0.2222222222222222,
             "#7201a8"
            ],
            [
             0.3333333333333333,
             "#9c179e"
            ],
            [
             0.4444444444444444,
             "#bd3786"
            ],
            [
             0.5555555555555556,
             "#d8576b"
            ],
            [
             0.6666666666666666,
             "#ed7953"
            ],
            [
             0.7777777777777778,
             "#fb9f3a"
            ],
            [
             0.8888888888888888,
             "#fdca26"
            ],
            [
             1,
             "#f0f921"
            ]
           ],
           "sequentialminus": [
            [
             0,
             "#0d0887"
            ],
            [
             0.1111111111111111,
             "#46039f"
            ],
            [
             0.2222222222222222,
             "#7201a8"
            ],
            [
             0.3333333333333333,
             "#9c179e"
            ],
            [
             0.4444444444444444,
             "#bd3786"
            ],
            [
             0.5555555555555556,
             "#d8576b"
            ],
            [
             0.6666666666666666,
             "#ed7953"
            ],
            [
             0.7777777777777778,
             "#fb9f3a"
            ],
            [
             0.8888888888888888,
             "#fdca26"
            ],
            [
             1,
             "#f0f921"
            ]
           ]
          },
          "colorway": [
           "#636efa",
           "#EF553B",
           "#00cc96",
           "#ab63fa",
           "#FFA15A",
           "#19d3f3",
           "#FF6692",
           "#B6E880",
           "#FF97FF",
           "#FECB52"
          ],
          "font": {
           "color": "#2a3f5f"
          },
          "geo": {
           "bgcolor": "white",
           "lakecolor": "white",
           "landcolor": "#E5ECF6",
           "showlakes": true,
           "showland": true,
           "subunitcolor": "white"
          },
          "hoverlabel": {
           "align": "left"
          },
          "hovermode": "closest",
          "mapbox": {
           "style": "light"
          },
          "paper_bgcolor": "white",
          "plot_bgcolor": "#E5ECF6",
          "polar": {
           "angularaxis": {
            "gridcolor": "white",
            "linecolor": "white",
            "ticks": ""
           },
           "bgcolor": "#E5ECF6",
           "radialaxis": {
            "gridcolor": "white",
            "linecolor": "white",
            "ticks": ""
           }
          },
          "scene": {
           "xaxis": {
            "backgroundcolor": "#E5ECF6",
            "gridcolor": "white",
            "gridwidth": 2,
            "linecolor": "white",
            "showbackground": true,
            "ticks": "",
            "zerolinecolor": "white"
           },
           "yaxis": {
            "backgroundcolor": "#E5ECF6",
            "gridcolor": "white",
            "gridwidth": 2,
            "linecolor": "white",
            "showbackground": true,
            "ticks": "",
            "zerolinecolor": "white"
           },
           "zaxis": {
            "backgroundcolor": "#E5ECF6",
            "gridcolor": "white",
            "gridwidth": 2,
            "linecolor": "white",
            "showbackground": true,
            "ticks": "",
            "zerolinecolor": "white"
           }
          },
          "shapedefaults": {
           "line": {
            "color": "#2a3f5f"
           }
          },
          "ternary": {
           "aaxis": {
            "gridcolor": "white",
            "linecolor": "white",
            "ticks": ""
           },
           "baxis": {
            "gridcolor": "white",
            "linecolor": "white",
            "ticks": ""
           },
           "bgcolor": "#E5ECF6",
           "caxis": {
            "gridcolor": "white",
            "linecolor": "white",
            "ticks": ""
           }
          },
          "title": {
           "x": 0.05
          },
          "xaxis": {
           "automargin": true,
           "gridcolor": "white",
           "linecolor": "white",
           "ticks": "",
           "title": {
            "standoff": 15
           },
           "zerolinecolor": "white",
           "zerolinewidth": 2
          },
          "yaxis": {
           "automargin": true,
           "gridcolor": "white",
           "linecolor": "white",
           "ticks": "",
           "title": {
            "standoff": 15
           },
           "zerolinecolor": "white",
           "zerolinewidth": 2
          }
         }
        },
        "title": {
         "text": "Binary Breakdown: HACL* Categories vs Runtime"
        }
       }
      }
     },
     "metadata": {},
     "output_type": "display_data"
    }
   ],
   "source": [
    "import json\n",
    "import plotly.graph_objects as go\n",
    "\n",
    "# Load your JSON\n",
    "with open(\"sdk_functions.json\") as f:\n",
    "    data = json.load(f)\n",
    "\n",
    "# Group HACL* functions by category\n",
    "def classify_hacl_function(name):\n",
    "    if \"MD5\" in name:\n",
    "        return \"HACL_MD5\"\n",
    "    elif \"SHA2\" in name or \"sha2\" in name:\n",
    "        return \"HACL_SHA2\"\n",
    "    elif \"SHA3\" in name or \"sha3\" in name:\n",
    "        return \"HACL_SHA3\"\n",
    "    elif \"Blake2\" in name:\n",
    "        return \"HACL_Blake2\"\n",
    "    elif \"Chacha20\" in name or \"chacha20\" in name:\n",
    "        return \"HACL_Chacha20\"\n",
    "    elif \"Poly1305\" in name:\n",
    "        return \"HACL_Poly1305\"\n",
    "    else:\n",
    "        return \"HACL_Other\"\n",
    "\n",
    "hacl_funcs = [f for f in data if f[\"is_hacl\"]]\n",
    "runtime_funcs = [f for f in data if not f[\"is_hacl\"]]\n",
    "\n",
    "# Top 5 runtime functions by size\n",
    "runtime_funcs.sort(key=lambda x: x[\"size_bytes\"], reverse=True)\n",
    "top_runtime = runtime_funcs[:5]\n",
    "other_runtime = runtime_funcs[5:]\n",
    "other_runtime_size = sum(f[\"size_bytes\"] for f in other_runtime)\n",
    "\n",
    "# Setup labels and graph structure\n",
    "labels = []\n",
    "label_map = {}\n",
    "\n",
    "def get_label(label):\n",
    "    if label not in label_map:\n",
    "        label_map[label] = len(labels)\n",
    "        labels.append(label)\n",
    "    return label_map[label]\n",
    "\n",
    "sources = []\n",
    "targets = []\n",
    "values = []\n",
    "\n",
    "# Root\n",
    "root = get_label(\"Full Binary\")\n",
    "\n",
    "# First level\n",
    "hacl = get_label(\"HACL*\")\n",
    "runtime = get_label(\"Runtime\")\n",
    "\n",
    "sources += [root, root]\n",
    "targets += [hacl, runtime]\n",
    "values += [\n",
    "    sum(f[\"size_bytes\"] for f in hacl_funcs),\n",
    "    sum(f[\"size_bytes\"] for f in top_runtime) + other_runtime_size\n",
    "]\n",
    "\n",
    "# HACL classes\n",
    "hacl_classes = {}\n",
    "for f in hacl_funcs:\n",
    "    cls = classify_hacl_function(f[\"name\"])\n",
    "    if cls not in hacl_classes:\n",
    "        hacl_classes[cls] = []\n",
    "    hacl_classes[cls].append(f)\n",
    "\n",
    "for cls, funcs in hacl_classes.items():\n",
    "    class_node = get_label(cls)\n",
    "    sources.append(hacl)\n",
    "    targets.append(class_node)\n",
    "    values.append(sum(f[\"size_bytes\"] for f in funcs))\n",
    "    for f in funcs:\n",
    "        func_node = get_label(f[\"name\"])\n",
    "        sources.append(class_node)\n",
    "        targets.append(func_node)\n",
    "        values.append(f[\"size_bytes\"])\n",
    "\n",
    "# Runtime functions\n",
    "for f in top_runtime:\n",
    "    tgt = get_label(f[\"name\"])\n",
    "    sources.append(runtime)\n",
    "    targets.append(tgt)\n",
    "    values.append(f[\"size_bytes\"])\n",
    "\n",
    "if other_runtime_size > 0:\n",
    "    tgt = get_label(\"Other Runtime\")\n",
    "    sources.append(runtime)\n",
    "    targets.append(tgt)\n",
    "    values.append(other_runtime_size)\n",
    "\n",
    "# Plot\n",
    "fig = go.Figure(go.Sankey(\n",
    "    arrangement=\"snap\",\n",
    "    node=dict(\n",
    "        pad=15,\n",
    "        thickness=20,\n",
    "        line=dict(color=\"black\", width=0.5),\n",
    "        label=labels,\n",
    "    ),\n",
    "    link=dict(\n",
    "        source=sources,\n",
    "        target=targets,\n",
    "        value=values,\n",
    "    )\n",
    "))\n",
    "\n",
    "fig.update_layout(\n",
    "    title_text=\"Binary Breakdown: HACL* Categories vs Runtime\",\n",
    "    font_size=12,\n",
    "    height=900  # make it taller\n",
    ")\n",
    "\n",
    "fig.show()\n"
   ]
  }
 ],
 "metadata": {
  "kernelspec": {
   "display_name": "Python 3",
   "language": "python",
   "name": "python3"
  },
  "language_info": {
   "codemirror_mode": {
    "name": "ipython",
    "version": 3
   },
   "file_extension": ".py",
   "mimetype": "text/x-python",
   "name": "python",
   "nbconvert_exporter": "python",
   "pygments_lexer": "ipython3",
   "version": "3.13.3"
  }
 },
 "nbformat": 4,
 "nbformat_minor": 5
}
